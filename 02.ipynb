{
 "cells": [
  {
   "cell_type": "code",
   "execution_count": 74,
   "metadata": {},
   "outputs": [],
   "source": [
    "import numpy as np"
   ]
  },
  {
   "cell_type": "code",
   "execution_count": 81,
   "metadata": {},
   "outputs": [],
   "source": [
    "lines = '''Game 1: 3 blue, 4 red; 1 red, 2 green, 6 blue; 2 green\n",
    "Game 2: 1 blue, 2 green; 3 green, 4 blue, 1 red; 1 green, 1 blue\n",
    "Game 3: 8 green, 6 blue, 20 red; 5 blue, 4 red, 13 green; 5 green, 1 red\n",
    "Game 4: 1 green, 3 red, 6 blue; 3 green, 6 red; 3 green, 15 blue, 14 red\n",
    "Game 5: 6 red, 1 blue, 3 green; 2 blue, 1 red, 2 green'''.split('\\n')\n"
   ]
  },
  {
   "cell_type": "code",
   "execution_count": null,
   "metadata": {},
   "outputs": [],
   "source": []
  },
  {
   "cell_type": "code",
   "execution_count": 84,
   "metadata": {},
   "outputs": [
    {
     "name": "stdout",
     "output_type": "stream",
     "text": [
      "2278\n",
      "67953\n"
     ]
    }
   ],
   "source": [
    "lines = list(open('input/02.txt'))\n",
    "\n",
    "MAX_RED = 12\n",
    "MAX_GREEN = 13\n",
    "MAX_BLUE = 14\n",
    "\n",
    "result = 0\n",
    "result_2 = 0\n",
    "\n",
    "is_possible_a = []\n",
    "for line in lines:\n",
    "    raw_game_id, data = line.split(':')\n",
    "    game_id = int(raw_game_id.split(' ')[1])\n",
    "\n",
    "    p = lambda x: None\n",
    "\n",
    "    parsed = []\n",
    "    for round in data.split(';'):\n",
    "        p(round)\n",
    "        parsed += [[0, 0, 0]]\n",
    "        for sample in round.split(','):\n",
    "            n, colour = sample.strip().split(' ')\n",
    "            n = int(n)\n",
    "            p('\\t' + str((n, colour)))\n",
    "            if colour == 'red':\n",
    "                parsed[-1][0] += n\n",
    "\n",
    "            if colour == 'green':\n",
    "                parsed[-1][1] += n\n",
    "\n",
    "            if colour == 'blue':\n",
    "                parsed[-1][2] += n\n",
    "\n",
    "\n",
    "    min_red = 0\n",
    "    min_green = 0\n",
    "    min_blue = 0\n",
    "    for r, g, b in parsed:\n",
    "        min_red = max(min_red, r)\n",
    "        min_green = max(min_green, g)\n",
    "        min_blue = max(min_blue, b)\n",
    "    result_2 += (min_red * min_green * min_blue)\n",
    "\n",
    "\n",
    "    possible = all(\n",
    "        r <= MAX_RED and g <= MAX_GREEN and b <= MAX_BLUE\n",
    "        for r, g, b in parsed\n",
    "    )\n",
    "\n",
    "    is_possible_a += [possible]\n",
    "\n",
    "    if possible:\n",
    "        result += game_id\n",
    "\n",
    "\n",
    "print(result)\n",
    "print(result_2)"
   ]
  },
  {
   "cell_type": "code",
   "execution_count": null,
   "metadata": {},
   "outputs": [],
   "source": [
    "np.prod"
   ]
  }
 ],
 "metadata": {
  "kernelspec": {
   "display_name": "Python 3",
   "language": "python",
   "name": "python3"
  },
  "language_info": {
   "codemirror_mode": {
    "name": "ipython",
    "version": 3
   },
   "file_extension": ".py",
   "mimetype": "text/x-python",
   "name": "python",
   "nbconvert_exporter": "python",
   "pygments_lexer": "ipython3",
   "version": "3.10.13"
  }
 },
 "nbformat": 4,
 "nbformat_minor": 2
}
