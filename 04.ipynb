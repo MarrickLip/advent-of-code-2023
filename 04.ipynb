{
 "cells": [
  {
   "cell_type": "code",
   "execution_count": 1,
   "metadata": {},
   "outputs": [],
   "source": []
  },
  {
   "cell_type": "code",
   "execution_count": 20,
   "metadata": {},
   "outputs": [
    {
     "data": {
      "text/plain": [
       "25010"
      ]
     },
     "execution_count": 20,
     "metadata": {},
     "output_type": "execute_result"
    }
   ],
   "source": [
    "\n",
    "lines = '''Card 1: 41 48 83 86 17 | 83 86  6 31 17  9 48 53\n",
    "Card 2: 13 32 20 16 61 | 61 30 68 82 17 32 24 19\n",
    "Card 3:  1 21 53 59 44 | 69 82 63 72 16 21 14  1\n",
    "Card 4: 41 92 73 84 69 | 59 84 76 51 58  5 54 83\n",
    "Card 5: 87 83 26 28 32 | 88 30 70 12 93 22 82 36\n",
    "Card 6: 31 18 13 56 72 | 74 77 10 23 35 67 36 11'''.split('\\n')\n",
    "\n",
    "lines = [line.strip() for line in open('input/04.txt')]\n",
    "\n",
    "def parse_nums(x):\n",
    "    x = x + ' '\n",
    "    nums = []\n",
    "    while len(x):\n",
    "        a, b, _, *x = x\n",
    "        a = '0' if a == ' ' else a\n",
    "        nums += [int(a + b)]\n",
    "    return nums\n",
    "\n",
    "total = 0\n",
    "for line in lines:\n",
    "    line = line.split(': ')[1]\n",
    "    a, b = line.split(' | ')\n",
    "\n",
    "    winning_nums = set(parse_nums(a))\n",
    "    n_winning = 0\n",
    "    for value in parse_nums(b):\n",
    "        n_winning += 1 if value in winning_nums else 0\n",
    "\n",
    "    if n_winning:\n",
    "        points = (2 ** (n_winning - 1))\n",
    "        total += points\n",
    "\n",
    "total\n"
   ]
  },
  {
   "cell_type": "code",
   "execution_count": 12,
   "metadata": {},
   "outputs": [
    {
     "data": {
      "text/plain": [
       "0.5"
      ]
     },
     "execution_count": 12,
     "metadata": {},
     "output_type": "execute_result"
    }
   ],
   "source": [
    "2 ** -1"
   ]
  },
  {
   "cell_type": "code",
   "execution_count": null,
   "metadata": {},
   "outputs": [],
   "source": []
  }
 ],
 "metadata": {
  "kernelspec": {
   "display_name": "Python 3",
   "language": "python",
   "name": "python3"
  },
  "language_info": {
   "codemirror_mode": {
    "name": "ipython",
    "version": 3
   },
   "file_extension": ".py",
   "mimetype": "text/x-python",
   "name": "python",
   "nbconvert_exporter": "python",
   "pygments_lexer": "ipython3",
   "version": "3.10.13"
  }
 },
 "nbformat": 4,
 "nbformat_minor": 2
}
