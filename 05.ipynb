{
 "cells": [
  {
   "cell_type": "code",
   "execution_count": 4,
   "metadata": {},
   "outputs": [],
   "source": [
    "lines = '''seeds: 79 14 55 13\n",
    "\n",
    "seed-to-soil map:\n",
    "50 98 2\n",
    "52 50 48\n",
    "\n",
    "soil-to-fertilizer map:\n",
    "0 15 37\n",
    "37 52 2\n",
    "39 0 15\n",
    "\n",
    "fertilizer-to-water map:\n",
    "49 53 8\n",
    "0 11 42\n",
    "42 0 7\n",
    "57 7 4\n",
    "\n",
    "water-to-light map:\n",
    "88 18 7\n",
    "18 25 70\n",
    "\n",
    "light-to-temperature map:\n",
    "45 77 23\n",
    "81 45 19\n",
    "68 64 13\n",
    "\n",
    "temperature-to-humidity map:\n",
    "0 69 1\n",
    "1 0 69\n",
    "\n",
    "humidity-to-location map:\n",
    "60 56 37\n",
    "56 93 4'''.split('\\n')\n",
    "\n",
    "lines = [line.strip() for line in open('input/05.txt')]"
   ]
  },
  {
   "cell_type": "code",
   "execution_count": 8,
   "metadata": {},
   "outputs": [],
   "source": [
    "raw_seeds = list(map(int, lines[0].split('seeds: ')[1].split(' ')))\n",
    "\n",
    "seeds = set()\n",
    "while len(raw_seeds):\n",
    "    start = raw_seeds.pop(0)\n",
    "    count = raw_seeds.pop(0)\n",
    "\n",
    "    for i in range(count):\n",
    "        seeds.add(start + count)\n",
    "\n",
    "print(len(seeds))\n",
    "\n",
    "0/0\n",
    "\n",
    "\n",
    "maps = []\n",
    "map_name = ''\n",
    "map_values = []\n",
    "for line in lines[2:]+['']:\n",
    "    if 'map:' in line:\n",
    "        map_name = line.split(' ')[0]\n",
    "    elif line == '':\n",
    "        maps += [(map_name, map_values)]\n",
    "        map_name = ''\n",
    "        map_values = []\n",
    "    else:\n",
    "        dst, src, n = map(int, line.split(' '))\n",
    "        map_values += [(src, dst, n)]\n",
    "\n",
    "\n",
    "min_location = 9999999999\n",
    "for seed in seeds:\n",
    "    value = seed\n",
    "    for name, values in maps:\n",
    "        for src, dst, n in values:\n",
    "            if src <= value <= src + n:\n",
    "                offset = value - src\n",
    "                value = dst + offset\n",
    "                break\n",
    "\n",
    "    min_location = min(min_location, value)\n",
    "min_location"
   ]
  },
  {
   "cell_type": "code",
   "execution_count": 7,
   "metadata": {},
   "outputs": [
    {
     "data": {
      "text/plain": [
       "[280775197,\n",
       " 7535297,\n",
       " 3229061264,\n",
       " 27275209,\n",
       " 77896732,\n",
       " 178275214,\n",
       " 2748861189,\n",
       " 424413807,\n",
       " 3663093536,\n",
       " 130341162,\n",
       " 613340959,\n",
       " 352550713,\n",
       " 1532286286,\n",
       " 1115055792,\n",
       " 1075412586,\n",
       " 241030710,\n",
       " 3430371306,\n",
       " 138606714,\n",
       " 412141395,\n",
       " 146351614]"
      ]
     },
     "execution_count": 7,
     "metadata": {},
     "output_type": "execute_result"
    }
   ],
   "source": [
    "seeds"
   ]
  },
  {
   "cell_type": "code",
   "execution_count": 2,
   "metadata": {},
   "outputs": [],
   "source": [
    "!git commit -a -m \"day 05\""
   ]
  },
  {
   "cell_type": "code",
   "execution_count": null,
   "metadata": {},
   "outputs": [],
   "source": []
  }
 ],
 "metadata": {
  "kernelspec": {
   "display_name": "Python 3",
   "language": "python",
   "name": "python3"
  },
  "language_info": {
   "codemirror_mode": {
    "name": "ipython",
    "version": 3
   },
   "file_extension": ".py",
   "mimetype": "text/x-python",
   "name": "python",
   "nbconvert_exporter": "python",
   "pygments_lexer": "ipython3",
   "version": "3.10.13"
  }
 },
 "nbformat": 4,
 "nbformat_minor": 2
}
