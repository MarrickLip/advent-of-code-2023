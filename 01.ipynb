{
 "cells": [
  {
   "cell_type": "markdown",
   "metadata": {},
   "source": [
    "## Day 01"
   ]
  },
  {
   "cell_type": "code",
   "execution_count": 22,
   "metadata": {},
   "outputs": [
    {
     "data": {
      "text/plain": [
       "['two1nine',\n",
       " 'eightwothree',\n",
       " 'abcone2threexyz',\n",
       " 'xtwone3four',\n",
       " '4nineeightseven2',\n",
       " 'zoneight234',\n",
       " '7pqrstsixteen']"
      ]
     },
     "execution_count": 22,
     "metadata": {},
     "output_type": "execute_result"
    }
   ],
   "source": [
    "lines = '''two1nine\n",
    "eightwothree\n",
    "abcone2threexyz\n",
    "xtwone3four\n",
    "4nineeightseven2\n",
    "zoneight234\n",
    "7pqrstsixteen'''\n"
   ]
  },
  {
   "cell_type": "code",
   "execution_count": 30,
   "metadata": {},
   "outputs": [
    {
     "data": {
      "text/plain": [
       "53855"
      ]
     },
     "execution_count": 30,
     "metadata": {},
     "output_type": "execute_result"
    }
   ],
   "source": [
    "total = 0\n",
    "\n",
    "digit_spellings = {\n",
    "    'one': 'one1one',\n",
    "    'two': 'two2two',\n",
    "    'three': 'three3three',\n",
    "    'four': 'four4four',\n",
    "    'five': 'five5five',\n",
    "    'six': 'six6six',\n",
    "    'seven': 'seven7seven',\n",
    "    'eight': 'eight8eight',\n",
    "    'nine': 'nine9nine',\n",
    "}\n",
    "\n",
    "for raw_line in open('input/01.txt'):\n",
    "    line = raw_line\n",
    "    for word, digit in digit_spellings.items():\n",
    "        line = line.replace(word, str(digit))\n",
    "\n",
    "    nums = [char for char in line if char in map(str, range(10))]\n",
    "\n",
    "    if len(nums) == 0:\n",
    "        value = int(nums[0])\n",
    "    else:\n",
    "        value = int(nums[0] + nums[-1])\n",
    "\n",
    "    total += value\n",
    "\n",
    "    #print(f'{raw_line.strip():10} {line} {nums} {value}')\n",
    "\n",
    "total"
   ]
  },
  {
   "cell_type": "code",
   "execution_count": null,
   "metadata": {},
   "outputs": [],
   "source": []
  },
  {
   "cell_type": "code",
   "execution_count": null,
   "metadata": {},
   "outputs": [],
   "source": []
  }
 ],
 "metadata": {
  "kernelspec": {
   "display_name": "Python 3",
   "language": "python",
   "name": "python3"
  },
  "language_info": {
   "codemirror_mode": {
    "name": "ipython",
    "version": 3
   },
   "file_extension": ".py",
   "mimetype": "text/x-python",
   "name": "python",
   "nbconvert_exporter": "python",
   "pygments_lexer": "ipython3",
   "version": "3.10.13"
  }
 },
 "nbformat": 4,
 "nbformat_minor": 2
}
