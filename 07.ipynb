{
 "cells": [
  {
   "cell_type": "code",
   "execution_count": 5,
   "metadata": {},
   "outputs": [],
   "source": [
    "from collections import defaultdict"
   ]
  },
  {
   "cell_type": "code",
   "execution_count": 32,
   "metadata": {},
   "outputs": [],
   "source": [
    "card_types = ['A', 'K', 'Q', 'T', '9', '8', '7', '6', '5', '4', '3', '2', 'J'][::-1]\n",
    "card_values = {card_type: card_types.index(card_type) for card_type in card_types}"
   ]
  },
  {
   "cell_type": "code",
   "execution_count": 36,
   "metadata": {},
   "outputs": [],
   "source": [
    "def get_value_counts(cards):\n",
    "    n_jokers = sum(card == 'J' for card in cards)\n",
    "    cards = [card for card in cards if card != 'J']\n",
    "\n",
    "    counts = defaultdict(int)\n",
    "    for card in cards:\n",
    "        counts[card] += 1\n",
    "    counts = list(sorted(counts.values()))\n",
    "\n",
    "    if counts == []:\n",
    "        counts = [n_jokers]\n",
    "    else:\n",
    "        counts[-1] += n_jokers\n",
    "\n",
    "    return counts\n",
    "\n",
    "def score_hand(cards):\n",
    "    value_counts = get_value_counts(cards)\n",
    "\n",
    "    if value_counts == [5]:\n",
    "        score = 7\n",
    "    elif value_counts == [1, 4]:\n",
    "        score = 6\n",
    "    elif value_counts == [2, 3]:\n",
    "        score = 5\n",
    "    elif value_counts == [1, 1, 3]:\n",
    "        score = 4\n",
    "    elif value_counts == [1, 2, 2]:\n",
    "        score = 3\n",
    "    elif value_counts == [1, 1, 1, 2]:\n",
    "        score = 2\n",
    "    elif value_counts == [1, 1, 1, 1, 1]:\n",
    "        score = 1\n",
    "\n",
    "    result = [score] + [card_values[card] for card in cards]\n",
    "    return sum(result[i] * 100**(10-i) for i in range(len(result)))\n",
    "\n"
   ]
  },
  {
   "cell_type": "code",
   "execution_count": 37,
   "metadata": {},
   "outputs": [],
   "source": [
    "lines = '''32T3K 765\n",
    "T55J5 684\n",
    "KK677 28\n",
    "KTJJT 220\n",
    "QQQJA 483'''.split('\\n')\n",
    "\n",
    "lines = [line.strip() for line in open('input/07.txt')]"
   ]
  },
  {
   "cell_type": "code",
   "execution_count": 38,
   "metadata": {},
   "outputs": [],
   "source": [
    "hands = []\n",
    "for line in lines:\n",
    "    cards, bet = line.split(' ')\n",
    "    hands += [(cards, int(bet), score_hand(cards))]\n",
    "\n",
    "hands = list(sorted(hands, key=lambda x: x[2]))"
   ]
  },
  {
   "cell_type": "code",
   "execution_count": 39,
   "metadata": {},
   "outputs": [
    {
     "data": {
      "text/plain": [
       "248747492"
      ]
     },
     "execution_count": 39,
     "metadata": {},
     "output_type": "execute_result"
    }
   ],
   "source": [
    "result = 0\n",
    "for i, hand in enumerate(hands):\n",
    "    result += ((i+1) * hand[1])\n",
    "\n",
    "result"
   ]
  },
  {
   "cell_type": "code",
   "execution_count": 18,
   "metadata": {},
   "outputs": [
    {
     "data": {
      "text/plain": [
       "[1, 2, 3]"
      ]
     },
     "execution_count": 18,
     "metadata": {},
     "output_type": "execute_result"
    }
   ],
   "source": [
    "!git add *; git commit -a -m \"day \""
   ]
  },
  {
   "cell_type": "code",
   "execution_count": null,
   "metadata": {},
   "outputs": [],
   "source": []
  }
 ],
 "metadata": {
  "kernelspec": {
   "display_name": "Python 3",
   "language": "python",
   "name": "python3"
  },
  "language_info": {
   "codemirror_mode": {
    "name": "ipython",
    "version": 3
   },
   "file_extension": ".py",
   "mimetype": "text/x-python",
   "name": "python",
   "nbconvert_exporter": "python",
   "pygments_lexer": "ipython3",
   "version": "3.10.13"
  }
 },
 "nbformat": 4,
 "nbformat_minor": 2
}
