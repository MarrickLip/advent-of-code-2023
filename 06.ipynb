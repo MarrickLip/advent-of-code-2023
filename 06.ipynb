{
 "cells": [
  {
   "cell_type": "code",
   "execution_count": 22,
   "metadata": {},
   "outputs": [],
   "source": [
    "input = '''Time:      7  15   30\n",
    "Distance:  9  40  200\n",
    "'''.split('\\n')\n",
    "\n",
    "input = '''Time:        54     70     82     75\n",
    "Distance:   239   1142   1295   1253'''.split('\\n')\n",
    "\n",
    "input = '''Time:      71530\n",
    "Distance:  940200'''.split('\\n')\n",
    "\n",
    "input = '''Time:        54708275\n",
    "Distance:   239114212951253'''.split('\\n')"
   ]
  },
  {
   "cell_type": "code",
   "execution_count": 23,
   "metadata": {},
   "outputs": [],
   "source": [
    "times = [int(time) for time in input[0].split(':')[1].split(' ') if time != '']\n",
    "dists = [int(dist) for dist in input[1].split(':')[1].split(' ') if dist != '']"
   ]
  },
  {
   "cell_type": "code",
   "execution_count": 24,
   "metadata": {},
   "outputs": [
    {
     "name": "stdout",
     "output_type": "stream",
     "text": [
      "45128024\n"
     ]
    },
    {
     "data": {
      "text/plain": [
       "45128024"
      ]
     },
     "execution_count": 24,
     "metadata": {},
     "output_type": "execute_result"
    }
   ],
   "source": [
    "result = 1\n",
    "for time, dist in zip(times, dists):\n",
    "    n_ways = 0\n",
    "\n",
    "    for speed in range(1, time):\n",
    "        distance = speed * (time - speed)\n",
    "        if distance > dist:\n",
    "            n_ways += 1\n",
    "    \n",
    "    print(n_ways)\n",
    "    result *= n_ways\n",
    "\n",
    "result\n"
   ]
  },
  {
   "cell_type": "code",
   "execution_count": null,
   "metadata": {},
   "outputs": [],
   "source": [
    "!git add *; git commit -a -m \"day 06\";"
   ]
  }
 ],
 "metadata": {
  "kernelspec": {
   "display_name": "Python 3",
   "language": "python",
   "name": "python3"
  },
  "language_info": {
   "codemirror_mode": {
    "name": "ipython",
    "version": 3
   },
   "file_extension": ".py",
   "mimetype": "text/x-python",
   "name": "python",
   "nbconvert_exporter": "python",
   "pygments_lexer": "ipython3",
   "version": "3.10.13"
  }
 },
 "nbformat": 4,
 "nbformat_minor": 2
}
